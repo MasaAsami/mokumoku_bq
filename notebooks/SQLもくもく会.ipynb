{
 "cells": [
  {
   "cell_type": "markdown",
   "metadata": {
    "slideshow": {
     "slide_type": "slide"
    }
   },
   "source": [
    "# 簡易もくもく会\n",
    "## スコープ\n",
    "- SQLをとりあえず触ってみる\n",
    "- DWH製品に触れてみる\n",
    "## スコープ外\n",
    "- DWHとは（業務DBと何が違うの？）\n",
    "- 運用におけるナレッジ\n",
    "- DDL系の話　などなど"
   ]
  },
  {
   "cell_type": "markdown",
   "metadata": {
    "slideshow": {
     "slide_type": "slide"
    }
   },
   "source": [
    "## SQLに慣れよう\n",
    "\n",
    "### SQLて何？\n",
    "- (一言で)データを操作や定義することに特化した言語\n",
    "- 宣言型言語（対義語：手続型言語）\n",
    "- SQLはDBMS向けの標準規格言語であはあるものの、商品によって方言はある。製品仕様を必ず調べよう"
   ]
  },
  {
   "cell_type": "markdown",
   "metadata": {
    "slideshow": {
     "slide_type": "slide"
    }
   },
   "source": [
    "## サブ言語\n",
    "- データ定義言語（DDL）\n",
    "    - CREATE, ALTER, DROP, ...\n",
    "- データ操作言語（DML）\n",
    "    - SELECT,....<br>\n",
    "\n",
    "<br>**”使うだけ”**に特化するのであれば、まずは後者だけ覚えよう"
   ]
  },
  {
   "cell_type": "markdown",
   "metadata": {
    "slideshow": {
     "slide_type": "slide"
    }
   },
   "source": [
    "## この12個だけ覚えれば、とりあえず実務で使える！！\n",
    "1. SELCT : どんなカラム が必要？\n",
    "2. FROM : どこのテーブル（ビュー）を使うの？\n",
    "3. WHERE : 条件しぼる？（フィルターする？）\n",
    "4. GROUP BY : グループ集計しよう\n",
    "5. ORDER BY : 並び替える？\n",
    "6. HAVING : GROUP BY後のWHEREと同じ機能\n",
    "7. JOIN ON : テーブル同士を特定のキーで結合したい\n",
    "8. WITH句 : クエリ分を見やすくするように、サブクエリは分割しよう\n",
    "9. LIMIT : 一部だけ表示をしぼりたい（非推奨）\n",
    "10. DISTINCT : ユニークな値のみ抽出\n",
    "11. 各種集計指示 : COUNT(), AVG(), SUM()など \n",
    "12. CASE文 : Excelでいうところのif文"
   ]
  },
  {
   "cell_type": "markdown",
   "metadata": {
    "slideshow": {
     "slide_type": "slide"
    }
   },
   "source": [
    "- その他にも色々ありますが（窓関数とか）、適宜公式ドキュメント をググりましょう\n",
    "- 本日は上記のうち、特に大切なものをご紹介"
   ]
  },
  {
   "cell_type": "markdown",
   "metadata": {
    "slideshow": {
     "slide_type": "slide"
    }
   },
   "source": [
    "# BigQueryにアクセスしよう\n",
    "\n",
    "- 画面で説明\n",
    "- 注意：スキャン量に応じて課金されます\n",
    "- **LIMITを入れたからといって、課金は節約されません！（超大事）**"
   ]
  },
  {
   "cell_type": "markdown",
   "metadata": {
    "slideshow": {
     "slide_type": "slide"
    }
   },
   "source": [
    "# サンプルデータ\n",
    "- 練習用の公開opendata : `bigquery-public-data.covid19_open_data.covid19_open_data`\n",
    "    - コロナの各国推移データ\n",
    "    - new_confirmed : 新規感染者\n",
    "    - new_deceased : 死亡者数\n",
    "    - country_code : JPが日本\n",
    "    - location_key :  都道府県を表す。JP_13=> TOKYO"
   ]
  },
  {
   "cell_type": "markdown",
   "metadata": {
    "slideshow": {
     "slide_type": "slide"
    }
   },
   "source": [
    "# SELECTとFROMを理解しょう\n",
    "\n",
    "```\n",
    "SELECT\n",
    "    col1,  -- みたいカラムの名前\n",
    "    col2,\n",
    "    col3,\n",
    "FROM\n",
    "    `bigquery-public-data.covid19_open_data.covid19_open_data`  -- 参照先のテーブル\n",
    "```"
   ]
  },
  {
   "cell_type": "code",
   "execution_count": null,
   "metadata": {
    "slideshow": {
     "slide_type": "subslide"
    }
   },
   "outputs": [],
   "source": [
    "%%sql\n",
    "\n",
    "SELECT\n",
    "  date,\n",
    "  country_code,\n",
    "  country_name,\n",
    "  location_key,\n",
    "  new_confirmed,\n",
    "  new_deceased,\n",
    "FROM\n",
    "  `bigquery-public-data.covid19_open_data.covid19_open_data`"
   ]
  },
  {
   "cell_type": "markdown",
   "metadata": {
    "slideshow": {
     "slide_type": "subslide"
    }
   },
   "source": [
    "- 全てのカラム を持ってきたければ`*`で引っ張れる。\n",
    "- ただし、SQLの可読性を損なう + 無駄なカラムのために課金消費するのは嫌。**非推奨！！**\n",
    "\n",
    "```\n",
    "SELECT\n",
    "   *\n",
    "FROM\n",
    "  `bigquery-public-data.covid19_open_data.covid19_open_data`\n",
    "```\n",
    "\n",
    "ついでに、`LIMIT 10`を最後にいれると、１０レコードのい表示になる"
   ]
  },
  {
   "cell_type": "markdown",
   "metadata": {
    "slideshow": {
     "slide_type": "slide"
    }
   },
   "source": [
    "# WHERE と ORDER BY\n",
    "\n",
    "- 日本だけのデータが欲しい\n",
    "- 日付で並び替えたい"
   ]
  },
  {
   "cell_type": "code",
   "execution_count": null,
   "metadata": {
    "slideshow": {
     "slide_type": "subslide"
    }
   },
   "outputs": [],
   "source": [
    "%%sql\n",
    "\n",
    "SELECT\n",
    "  date,\n",
    "  country_code,\n",
    "  country_name,\n",
    "  location_key,\n",
    "  new_confirmed,\n",
    "  new_deceased,\n",
    "FROM\n",
    "  `bigquery-public-data.covid19_open_data.covid19_open_data`\n",
    "WHERE\n",
    "  country_code = \"JP\"  -- 日本のデータだけとってきて\n",
    "ORDER BY \n",
    "  date DESC  -- dateで並び替え（DESCいれると、降順）\n"
   ]
  },
  {
   "cell_type": "markdown",
   "metadata": {
    "slideshow": {
     "slide_type": "slide"
    }
   },
   "source": [
    "# 集計してみよう（SUM）\n",
    "- 2022-01-01の新規感染者について\n",
    "- 都道府県の new_confirmed の合計が 日本全体の数値と一致しているか確認していよう\n",
    "- まず、これを実行してみてください\n",
    "\n",
    "```\n",
    "SELECT\n",
    "  date,\n",
    "  country_code,\n",
    "  location_key,\n",
    "  new_confirmed,\n",
    "FROM\n",
    "  `bigquery-public-data.covid19_open_data.covid19_open_data`\n",
    "WHERE\n",
    "    country_code = \"JP\"\n",
    "  AND\n",
    "    date = \"2022-01-01\"\n",
    "ORDER BY \n",
    "  location_key\n",
    "```"
   ]
  },
  {
   "cell_type": "markdown",
   "metadata": {
    "slideshow": {
     "slide_type": "slide"
    }
   },
   "source": [
    "- 上を実行すると、`location_key`に日本全体と、都道府県が混ざっていることがわかる\n",
    "- 日本全体 465件を都道府県の合計で再現できるか確認してみる"
   ]
  },
  {
   "cell_type": "code",
   "execution_count": null,
   "metadata": {
    "slideshow": {
     "slide_type": "-"
    }
   },
   "outputs": [],
   "source": [
    "%%sql\n",
    "\n",
    "SELECT\n",
    "  SUM(new_confirmed) AS sum_cnt,  -- これが見たいもの\n",
    "  AVG(new_confirmed) AS avg_cnt,  -- ついでに平均みよう\n",
    "  COUNT(new_confirmed) AS record_cnt,  -- ついでにレコードの数みよう\n",
    "FROM\n",
    "  `bigquery-public-data.covid19_open_data.covid19_open_data`\n",
    "WHERE\n",
    "    country_code = \"JP\"\n",
    "  AND\n",
    "    date = \"2022-01-01\"\n",
    "  AND\n",
    "    location_key <> \"JP\""
   ]
  },
  {
   "cell_type": "markdown",
   "metadata": {
    "slideshow": {
     "slide_type": "slide"
    }
   },
   "source": [
    "# GROUP BY\n",
    "- 2021年の都道府県ごとの平均感染者数を集計しよう\n",
    "- グループごとの集計はGROUP BYがおすすめ"
   ]
  },
  {
   "cell_type": "code",
   "execution_count": null,
   "metadata": {
    "slideshow": {
     "slide_type": "-"
    }
   },
   "outputs": [],
   "source": [
    "%%sql\n",
    "\n",
    "SELECT\n",
    "  location_key, -- group by のキー\n",
    "  AVG(new_confirmed) AS avg_new_confirmed,  -- 平均計算\n",
    "FROM\n",
    "  `bigquery-public-data.covid19_open_data.covid19_open_data`\n",
    "WHERE\n",
    "    country_code = \"JP\"\n",
    "  AND\n",
    "    EXTRACT(YEAR FROM date) = 2021  -- 2021年に絞る\n",
    "  AND\n",
    "    location_key <> \"JP\"  -- 日本全体のレコードは除く\n",
    "GROUP BY\n",
    "  location_key\n",
    "ORDER BY\n",
    "  avg_new_confirmed DESC  -- 平均感染者数が多い順にソート"
   ]
  },
  {
   "cell_type": "markdown",
   "metadata": {
    "slideshow": {
     "slide_type": "slide"
    }
   },
   "source": [
    "- ついでに、`HAVING`について\n",
    "- GROUP BYした結果に対して、さらにフィルターしたいときに使う"
   ]
  },
  {
   "cell_type": "code",
   "execution_count": null,
   "metadata": {
    "slideshow": {
     "slide_type": "-"
    }
   },
   "outputs": [],
   "source": [
    "%%sql\n",
    "\n",
    "SELECT\n",
    "  location_key, -- group by のキー\n",
    "  AVG(new_confirmed) AS avg_new_confirmed,  -- 平均計算\n",
    "FROM\n",
    "  `bigquery-public-data.covid19_open_data.covid19_open_data`\n",
    "WHERE\n",
    "    country_code = \"JP\"\n",
    "  AND\n",
    "    EXTRACT(YEAR FROM date) = 2021  -- 2021年に絞る\n",
    "  AND\n",
    "    location_key <> \"JP\"  -- 日本全体のレコードは除く\n",
    "GROUP BY\n",
    "  location_key\n",
    "HAVING\n",
    "  avg_new_confirmed > 60  -- 60以上のレコードにフィルター\n",
    "ORDER BY\n",
    "  avg_new_confirmed DESC  -- 平均感染者数が多い順にソート\n"
   ]
  },
  {
   "cell_type": "markdown",
   "metadata": {
    "slideshow": {
     "slide_type": "slide"
    }
   },
   "source": [
    "# WITH句\n",
    "- サブクエリ（FROMの中に、さらにSELECT文を書くようなもの）は第三者にとって非常に読みにくい。\n",
    "- WITH句を積極的に活用しましょう"
   ]
  },
  {
   "cell_type": "code",
   "execution_count": null,
   "metadata": {},
   "outputs": [],
   "source": [
    "%%sql\n",
    "\n",
    "-- 東京のみの感染者推移テーブルを一時的に作って、それを利用する\n",
    "WITH tokyo_table AS (\n",
    "  SELECT\n",
    "    date,\n",
    "    SUM(new_confirmed) AS tokyo_new_confirmed\n",
    "  FROM\n",
    "    `bigquery-public-data.covid19_open_data.covid19_open_data`\n",
    "  WHERE\n",
    "    country_code = \"JP\"\n",
    "  AND\n",
    "    location_key = \"JP_13\"  -- これが東京\n",
    "  GROUP BY\n",
    "    date\n",
    ")\n",
    "\n",
    "SELECT\n",
    "  date,\n",
    "  tokyo_new_confirmed\n",
    "FROM\n",
    "  tokyo_table\n",
    "ORDER BY \n",
    "  date DESC"
   ]
  },
  {
   "cell_type": "markdown",
   "metadata": {
    "slideshow": {
     "slide_type": "slide"
    }
   },
   "source": [
    "# JOIN\n",
    "- table と tableをキーを基に、マージしよう\n",
    "- tokyo_table : 東京のみの感染者推移\n",
    "- japan_table : 日本全体の感染者推移\n",
    "- 両テーブルをマージして、推移を比較したい"
   ]
  },
  {
   "cell_type": "code",
   "execution_count": null,
   "metadata": {},
   "outputs": [],
   "source": [
    "%%sql\n",
    "\n",
    "WITH tokyo_table AS (\n",
    "  SELECT\n",
    "    date,\n",
    "    SUM(new_confirmed) AS tokyo_new_confirmed\n",
    "  FROM\n",
    "    `bigquery-public-data.covid19_open_data.covid19_open_data`\n",
    "  WHERE\n",
    "    country_code = \"JP\"\n",
    "  AND\n",
    "    location_key = \"JP_13\"\n",
    "  GROUP BY\n",
    "    date\n",
    ")\n",
    ",japan_table AS (\n",
    "  SELECT\n",
    "    date,\n",
    "    SUM(new_confirmed) AS japan_new_confirmed\n",
    "  FROM\n",
    "    `bigquery-public-data.covid19_open_data.covid19_open_data`\n",
    "  WHERE\n",
    "    country_code = \"JP\"\n",
    "  AND\n",
    "    location_key = \"JP\"\n",
    "  GROUP BY\n",
    "    date\n",
    ")\n",
    "\n",
    "-- ここからマージ\n",
    "SELECT\n",
    "  j.date,\n",
    "  t.tokyo_new_confirmed,\n",
    "  j.japan_new_confirmed\n",
    "FROM\n",
    "  japan_table j　 -- japan_tableをjとした\n",
    "LEFT JOIN\n",
    "  tokyo_table t\n",
    "ON\n",
    "  j.date = t.date\n",
    "WHERE\n",
    "  j.date <= DATE_ADD(CURRENT_DATE, INTERVAL -2 DAY) -- 直近のデータはないっぽいので、２日前までのデータにする\n",
    "ORDER BY \n",
    "  j.date DESC"
   ]
  },
  {
   "cell_type": "markdown",
   "metadata": {
    "slideshow": {
     "slide_type": "slide"
    }
   },
   "source": [
    "# SQLの心の中\n",
    "- 実行の順番（製品にもよる）\n",
    "- `FROM` -> `ON` -> `JOIN` -> `WHERE` -> `GROUP BY` -> `HAVING` -> `SELECT` -> `DISTINCT` -> `ORDER BY` -> `LIMIT`"
   ]
  },
  {
   "cell_type": "markdown",
   "metadata": {
    "slideshow": {
     "slide_type": "-"
    }
   },
   "source": [
    "- 本当のBIGDATAはパーティション（クラスター、index）がついてるので、かならずwhereでパーティションを指定してクエリを投げる（課金爆死する）\n",
    "- LIMITがあれば大丈夫！ではない。課金はあくあでスキャン量に依存する。LIMITはスキャンが終わってから実行される"
   ]
  },
  {
   "cell_type": "markdown",
   "metadata": {
    "slideshow": {
     "slide_type": "slide"
    }
   },
   "source": [
    "# view\n",
    "- 適当なデータセットの下に、`view`を作ってみよう\n",
    "- `view`はデータを物理的に複製しているのではなく、`SQLクエリ`を保存しているようなもの\n",
    "- `view`を見るたびに、クエリ実行される"
   ]
  },
  {
   "cell_type": "markdown",
   "metadata": {
    "slideshow": {
     "slide_type": "-"
    }
   },
   "source": [
    "# スケジュールクエリでテーブルを自動定期更新\n",
    "- クエリを定期的に実行して、テーブルを上書き or 追加することお簡単"
   ]
  },
  {
   "cell_type": "markdown",
   "metadata": {
    "slideshow": {
     "slide_type": "slide"
    }
   },
   "source": [
    "# 実務的には、チーム内で必ずルールを決めよう\n",
    "- コーディング規約\n",
    "- 特に、命名規約の徹底はしよう（スネークケース）\n",
    "- table viewはsandbox以外、必ずドキュエントを書こう（どこに？フォーマットは？）\n",
    "\n",
    "# 一方でどんどん遊ぼう\n",
    "- データをアップロードしたり\n",
    "- 他のオープンデータで練習したり\n",
    "- PythonとBQを繋げてみたり などなど"
   ]
  },
  {
   "cell_type": "markdown",
   "metadata": {
    "slideshow": {
     "slide_type": "slide"
    }
   },
   "source": [
    "# 慣れてきたら効率的なクエリを書く\n",
    "## [公式ドキュメント](https://cloud.google.com/bigquery/docs/best-practices-costs)を読んでみよう\n",
    "- SELECT *を避ける\n",
    "    - 無駄なカラムのためにスキャン料金が発生するのはバカらしい\n",
    "    - `*`は可読性を損ねる\n",
    "- パーティション(クラスター)を積極的に使う\n",
    "    - 本当にデータが大きくなってきたとき、パーティション設定しないクエリは料金的に死ぬ\n",
    "    - テーブルを作るときにパーティションがあるクエリしか受け付けないようにする防御策はある\n",
    "- テーブルを非正規化する\n",
    "    - 意外かもしれませんが、BGの場合、非正規化しておいた方が効率的なクエリが実行できることが多々ある\n",
    "    - 非正規化されたデータはJOINが必要ないので(列志向DBの特徴かと)\n",
    "- JOINする前にデータの量を減らす\n",
    "- クエリのキャッシュを有効利用する　などなど"
   ]
  },
  {
   "cell_type": "markdown",
   "metadata": {
    "slideshow": {
     "slide_type": "slide"
    }
   },
   "source": [
    "# おまけ\n",
    "## UDF(ユーザー定義関数)\n",
    "- BigQueryはUDFという関数を作ることができる\n",
    "- さらに、以下のようにGCSにjavascriptのライブラリーを格納することによって、javascriptのライブラリーを使用することもできる\n",
    "- ご参考１：ymym3412さん [SQLで始める自然言語処理](https://ymym3412.hatenablog.com/entry/2020/12/24/001923)\n",
    "- ご参考２：浅見 [BigQuery で統計処理を完結させる](https://lab.mo-t.com/blog/bigquery-udf)"
   ]
  },
  {
   "cell_type": "code",
   "execution_count": null,
   "metadata": {},
   "outputs": [],
   "source": [
    "%% sql\n",
    "\n",
    "CREATE TEMPORARY FUNCTION segment(x string)\n",
    "RETURNS array<string>\n",
    "LANGUAGE js AS \"\"\"\n",
    "  var segmenter = new TinySegmenter();\n",
    "  return segmenter.segment(x)\n",
    "\"\"\"\n",
    "OPTIONS (\n",
    "  library=\"gs://udf_lib_js/tiny_segmenter-0.2.js\"\n",
    ");\n",
    "\n",
    "WITH sample_texts AS (\n",
    "  /*「DXに必要な行政職員のスキルってなんだ？」note記事から*/\n",
    "  SELECT\n",
    "    text_id\n",
    "    ,regexp_replace(sample_strings, '<(\".*?\"|\\'.*?\\'|[^\\'\"])*?>', '') AS texts\n",
    "  FROM\n",
    "    UNNEST(\n",
    "        ARRAY<STRUCT<text_id INT64, sample_strings STRING>> \n",
    "      [ \n",
    "        (1,'はじめまして。情報プロジェクト室の髙柳です。'),\n",
    "        (2,'袋井市は静岡県西部に位置する人口約8万人の地方都市です。'),\n",
    "        (3,'東海道の真ん中に位置する宿場町として発展した歴史を持ち、東京や大阪といった東西の都市部へアクセスが容易です') \n",
    "      ] \n",
    "    ) \n",
    ")\n",
    "\n",
    "SELECT\n",
    "  text_id\n",
    "  ,segment(texts) AS tokens\n",
    "FROM\n",
    "  sample_texts"
   ]
  }
 ],
 "metadata": {
  "celltoolbar": "Slideshow",
  "kernelspec": {
   "display_name": "Python 3",
   "language": "python",
   "name": "python3"
  },
  "language_info": {
   "codemirror_mode": {
    "name": "ipython",
    "version": 3
   },
   "file_extension": ".py",
   "mimetype": "text/x-python",
   "name": "python",
   "nbconvert_exporter": "python",
   "pygments_lexer": "ipython3",
   "version": "3.7.4"
  }
 },
 "nbformat": 4,
 "nbformat_minor": 2
}
